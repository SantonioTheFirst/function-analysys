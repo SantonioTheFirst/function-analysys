{
 "cells": [
  {
   "cell_type": "code",
   "execution_count": 213,
   "metadata": {},
   "outputs": [],
   "source": [
    "import matplotlib.pyplot as plt\n",
    "%matplotlib inline\n",
    "import numpy as np\n",
    "from scipy import optimize"
   ]
  },
  {
   "cell_type": "code",
   "execution_count": 214,
   "metadata": {},
   "outputs": [],
   "source": [
    "def function(x):\n",
    "    return np.sin(x/5.0)*np.exp(x/10.0)+5.0*np.exp(-x/2.0)"
   ]
  },
  {
   "cell_type": "code",
   "execution_count": 215,
   "metadata": {},
   "outputs": [
    {
     "name": "stdout",
     "output_type": "stream",
     "text": [
      "1.8778384165859365\n",
      "[ 1  2  3  4  5  6  7  8  9 10 11 12 13 14 15 16 17 18 19 20 21 22 23 24\n",
      " 25 26 27 28 29 30]\n",
      "[ 0.19866933  0.38941834  0.56464247  0.71735609  0.84147098  0.93203909\n",
      "  0.98544973  0.9995736   0.97384763  0.90929743  0.8084964   0.67546318\n",
      "  0.51550137  0.33498815  0.14112001 -0.05837414 -0.2555411  -0.44252044\n",
      " -0.61185789 -0.7568025  -0.87157577 -0.95160207 -0.993691   -0.99616461\n",
      " -0.95892427 -0.88345466 -0.77276449 -0.63126664 -0.46460218 -0.2794155 ]\n"
     ]
    }
   ],
   "source": [
    "print (function(3))\n",
    "x=np.arange(1,31)\n",
    "print (x)\n",
    "print (np.sin(x/5.0))"
   ]
  },
  {
   "cell_type": "code",
   "execution_count": 216,
   "metadata": {},
   "outputs": [
    {
     "data": {
      "image/png": "[encoded data removed]",
      "text/plain": [
       "<Figure size 432x288 with 1 Axes>"
      ]
     },
     "metadata": {
      "needs_background": "light"
     },
     "output_type": "display_data"
    },
    {
     "name": "stdout",
     "output_type": "stream",
     "text": [
      "<class 'numpy.ndarray'>\n"
     ]
    }
   ],
   "source": [
    "plt.plot(x,function(x))\n",
    "plt.show()\n",
    "print(type(np.arange(1,30)))"
   ]
  },
  {
   "cell_type": "code",
   "execution_count": 217,
   "metadata": {},
   "outputs": [
    {
     "name": "stdout",
     "output_type": "stream",
     "text": [
      "      fun: 1.7452682903449388\n",
      " hess_inv: array([[5.98752437]])\n",
      "      jac: array([-2.07126141e-06])\n",
      "  message: 'Optimization terminated successfully.'\n",
      "     nfev: 21\n",
      "      nit: 6\n",
      "     njev: 7\n",
      "   status: 0\n",
      "  success: True\n",
      "        x: array([4.13627618]) \n",
      "-----\n",
      " [4.13627618] 1.7452682903449388\n",
      "      fun: -11.898894665981285\n",
      " hess_inv: array([[1.67932484]])\n",
      "      jac: array([2.38418579e-07])\n",
      "  message: 'Optimization terminated successfully.'\n",
      "     nfev: 21\n",
      "      nit: 6\n",
      "     njev: 7\n",
      "   status: 0\n",
      "  success: True\n",
      "        x: array([25.88019339]) \n",
      "-----\n",
      " [25.88019339] -11.898894665981285\n",
      "Ответы:\n",
      "----------\n",
      " 1.75 -11.9\n"
     ]
    }
   ],
   "source": [
    "opt = optimize.minimize(function, 2, method='BFGS')\n",
    "print(opt, '\\n-----\\n', opt.x, opt.fun)\n",
    "answer1 = round(opt.fun,2)\n",
    "opt = optimize.minimize(function, 30, method='BFGS')\n",
    "print(opt, '\\n-----\\n', opt.x, opt.fun)\n",
    "answer2 = round(opt.fun, 2)\n",
    "print('Ответы:\\n----------\\n',answer1,answer2)"
   ]
  },
  {
   "cell_type": "code",
   "execution_count": 218,
   "metadata": {},
   "outputs": [
    {
     "name": "stdout",
     "output_type": "stream",
     "text": [
      "     fun: array([-11.89889467])\n",
      "     jac: array([0.])\n",
      " message: 'Optimization terminated successfully.'\n",
      "    nfev: 98\n",
      "     nit: 5\n",
      " success: True\n",
      "       x: array([25.88019347])\n",
      "Ответ:\n",
      "----------\n",
      " [-11.9]\n"
     ]
    }
   ],
   "source": [
    "opt = optimize.differential_evolution(function, [(1,31)])\n",
    "print(opt)\n",
    "answer = np.round(opt.fun, 2)\n",
    "print('Ответ:\\n----------\\n',answer)"
   ]
  },
  {
   "cell_type": "code",
   "execution_count": 219,
   "metadata": {},
   "outputs": [],
   "source": [
    "def h(x):\n",
    "    return np.floor(function(x))"
   ]
  },
  {
   "cell_type": "code",
   "execution_count": 220,
   "metadata": {},
   "outputs": [
    {
     "data": {
      "image/png": "[encoded data removed]",
      "text/plain": [
       "<Figure size 432x288 with 1 Axes>"
      ]
     },
     "metadata": {
      "needs_background": "light"
     },
     "output_type": "display_data"
    },
    {
     "name": "stdout",
     "output_type": "stream",
     "text": [
      "      fun: array([-6.])\n",
      " hess_inv: array([[1]])\n",
      "      jac: array([0.])\n",
      "  message: 'Optimization terminated successfully.'\n",
      "     nfev: 3\n",
      "      nit: 0\n",
      "     njev: 1\n",
      "   status: 0\n",
      "  success: True\n",
      "        x: array([30.])\n"
     ]
    }
   ],
   "source": [
    "plt.plot(x, h(x))\n",
    "plt.show()\n",
    "opt = optimize.minimize(h, 30, method='BFGS')\n",
    "print(opt)\n",
    "#print(type(x))"
   ]
  },
  {
   "cell_type": "code",
   "execution_count": 221,
   "metadata": {},
   "outputs": [
    {
     "name": "stdout",
     "output_type": "stream",
     "text": [
      "     fun: -12.0\n",
      " message: 'Optimization terminated successfully.'\n",
      "    nfev: 122\n",
      "     nit: 7\n",
      " success: True\n",
      "       x: array([27.31765485])\n"
     ]
    }
   ],
   "source": [
    "opt = optimize.differential_evolution(h,[(1,31)])\n",
    "print(opt)"
   ]
  },
  {
   "cell_type": "code",
   "execution_count": null,
   "metadata": {},
   "outputs": [],
   "source": []
  }
 ],
 "metadata": {
  "kernelspec": {
   "display_name": "Python 3",
   "language": "python",
   "name": "python3"
  },
  "language_info": {
   "codemirror_mode": {
    "name": "ipython",
    "version": 3
   },
   "file_extension": ".py",
   "mimetype": "text/x-python",
   "name": "python",
   "nbconvert_exporter": "python",
   "pygments_lexer": "ipython3",
   "version": "3.7.3"
  }
 },
 "nbformat": 4,
 "nbformat_minor": 2
}
